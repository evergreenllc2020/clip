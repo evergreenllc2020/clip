{
  "nbformat": 4,
  "nbformat_minor": 0,
  "metadata": {
    "colab": {
      "provenance": [],
      "authorship_tag": "ABX9TyNVgGIg0ppLnChXfTyoAlPu",
      "include_colab_link": true
    },
    "kernelspec": {
      "name": "python3",
      "display_name": "Python 3"
    },
    "language_info": {
      "name": "python"
    }
  },
  "cells": [
    {
      "cell_type": "markdown",
      "metadata": {
        "id": "view-in-github",
        "colab_type": "text"
      },
      "source": [
        "<a href=\"https://colab.research.google.com/github/evergreenllc2020/clip/blob/main/Noise_Removal_with_CLIP.ipynb\" target=\"_parent\"><img src=\"https://colab.research.google.com/assets/colab-badge.svg\" alt=\"Open In Colab\"/></a>"
      ]
    },
    {
      "cell_type": "code",
      "execution_count": 1,
      "metadata": {
        "colab": {
          "base_uri": "https://localhost:8080/"
        },
        "id": "dDIEEA1trh4N",
        "outputId": "25247881-6d0f-4d59-c168-045426434ec8"
      },
      "outputs": [
        {
          "output_type": "stream",
          "name": "stdout",
          "text": [
            "Looking in indexes: https://pypi.org/simple, https://us-python.pkg.dev/colab-wheels/public/simple/\n",
            "Requirement already satisfied: torch in /usr/local/lib/python3.8/dist-packages (1.13.0+cu116)\n",
            "\u001b[31mERROR: Could not find a version that satisfies the requirement trochvision (from versions: none)\u001b[0m\n",
            "\u001b[31mERROR: No matching distribution found for trochvision\u001b[0m\n"
          ]
        }
      ],
      "source": [
        "!pip install torch trochvision"
      ]
    },
    {
      "cell_type": "code",
      "source": [
        "from google.colab import drive\n",
        "drive.mount('/content/drive/') "
      ],
      "metadata": {
        "colab": {
          "base_uri": "https://localhost:8080/"
        },
        "id": "9uSvXZ_-rqHM",
        "outputId": "ae666ad6-6c22-4d4e-ec56-481f9633e679"
      },
      "execution_count": 2,
      "outputs": [
        {
          "output_type": "stream",
          "name": "stdout",
          "text": [
            "Mounted at /content/drive/\n"
          ]
        }
      ]
    },
    {
      "cell_type": "code",
      "source": [
        "!ls \"/content/drive/My Drive/\""
      ],
      "metadata": {
        "colab": {
          "base_uri": "https://localhost:8080/"
        },
        "id": "_FOsBi06sBbR",
        "outputId": "f9fc281d-e940-469b-9d9f-4264b64a6296"
      },
      "execution_count": 3,
      "outputs": [
        {
          "output_type": "stream",
          "name": "stdout",
          "text": [
            "'11th Grade Event 4.16.21.pdf'\n",
            "'2017 Tax Return Documents (SADAPHULE RAVINDRA and).pdf'\n",
            "'210125 Sadaphule 1st draft - mas.pdf'\n",
            " 7021DB05-B5D2-47D9-9271-9410FBF4BF7B.JPG\n",
            "'812 Rosepoint Sale'\n",
            "'95 Professional Center Pkwy.gmap'\n",
            " A48D414FC4274730BBCBCD5456AEC2F9.pdf\n",
            "'Avenue One Master - 150518 - Annual Policy Statement.pdf'\n",
            "'Avenue One Master - 180102 - Information Handbook (1).pdf'\n",
            " cedar_fair_#5483200_11071.pdf\n",
            " Chemistry_Honors_Packet.pdf\n",
            " CLenar.pdf\n",
            "'Client Information.pdf'\n",
            " Colab\n",
            "'Colab Notebooks'\n",
            "'Copy of Al-Shabaab Stakeholder Analysis [TEMPLATE].gslides'\n",
            "'Copy of Canva x Parent & Child Template.gsheet'\n",
            "'Copy of Design a Disruption Hypothesis Activity [Non-VirBELA Version for 2 People].gslides'\n",
            "'Copy of Design a Disruption Hypothesis Activity [Non-VirBELA Version for 3 People].gslides'\n",
            "'Copy of Disruption Framework and Three Pillars [Template].gslides'\n",
            "'Copy of Empathy Map Template.gslides'\n",
            "'Copy of Story Workbook - Fall 2021 (1).gslides'\n",
            "'Copy of Story Workbook - Fall 2021 (2).gslides'\n",
            "'Copy of Story Workbook - Fall 2021 (3).gslides'\n",
            "'Copy of Story Workbook - Fall 2021 (4).gslides'\n",
            "'Copy of Story Workbook - Fall 2021 (5).gslides'\n",
            "'Copy of Story Workbook - Fall 2021.gslides'\n",
            "'Couples Data.pdf'\n",
            " courses\n",
            " cv\n",
            "'Directions to 1045 La Avenida St, Mountain View, CA 94043.gmap'\n",
            "'Directions to 1065 La Avenida Mountain view CA 94043.gmap'\n",
            " Docker_for_Java_Developers_NGINX.pdf\n",
            " Documents\n",
            "'Essay Prompts (1).docx'\n",
            "'Essay Prompts.docx'\n",
            "'Essay Prompts.docx.gdoc'\n",
            "'for Aditya.gdraw'\n",
            "'for Krishna.gdraw'\n",
            "'For Muthu.gdraw'\n",
            "'For Sukru.gdraw'\n",
            "'For Vivek.gdraw'\n",
            " GAN\n",
            " imagejpeg_0.jpg\n",
            " IMG_2569.JPG\n",
            " IMG_2681.JPG\n",
            " invoice-C.pdf\n",
            "'Jetstream APS ADMIN ACCOUNT website map.doc'\n",
            "'Legal Plan.pdf'\n",
            "'Mercedes Benz - Team 9 Submission.pdf'\n",
            " MIT\n",
            "'Module 7 Assignment 2 - Anticipating and preparing for crisis.docx'\n",
            " Music\n",
            "'My Drawing.gjam'\n",
            "'___names and phone numbers.docx'\n",
            " NLP\n",
            "'Performance Testing.docx'\n",
            " Personal\n",
            "'Product Ideas'\n",
            "'Project proposal.gdoc'\n",
            " Public\n",
            "'QBO Inventory Team  Peer Feedback: Mid-Year FY17.gform'\n",
            "'Ravindra Sadaphule 2x2 Disruption Framework for Impossible Foods [Assignment Template].gslides'\n",
            "'Ravindra Sadaphule-Int Sch.gdoc'\n",
            "'Ravindra Sadaphule LEAD Course Selection Workbook.gsheet'\n",
            "\"Ravindra's Empathy Map Template.gslides\"\n",
            " Resume_13_Sep_2021.pdf\n",
            " Resume-RavindraSadaphule07.pdf\n",
            " Scott_interview.gdraw\n",
            "'SmartOffice Order Creation_Input.xml'\n",
            " Spruthi.gdraw\n",
            "'Stanford LEAD'\n",
            "'Stanford Lead: Team Planning.gdoc'\n",
            " TAX\n",
            "'Team 24 Brainstorming Document.gdraw'\n",
            "'Tesla wall charger'\n",
            " THG-A10571-1661530886510.pdf\n",
            " TOPICModeling.zip\n",
            "'Untitled document (1).gdoc'\n",
            "'Untitled document.gdoc'\n",
            "'Untitled drawing.gdraw'\n",
            "'Untitled form.gform'\n",
            "'Untitled Jam (1).gjam'\n",
            "'Untitled Jam (2).gjam'\n",
            "'Untitled Jam (3).gjam'\n",
            "'Untitled Jam (4).gjam'\n",
            "'Untitled Jam.gjam'\n",
            " US_frontgate_04-26-04.jpg\n",
            " Vijay_Interview.gdraw\n",
            " Walmart.gmap\n",
            "'Wells Fargo Underwriting doc.pdf'\n",
            "'Your big idea.gslides'\n"
          ]
        }
      ]
    },
    {
      "cell_type": "code",
      "source": [
        "!pip install ftfy regex tqdm"
      ],
      "metadata": {
        "colab": {
          "base_uri": "https://localhost:8080/"
        },
        "id": "WBObEhz0sJLs",
        "outputId": "77428c43-ce12-4fec-82de-3337f6a3fa24"
      },
      "execution_count": 4,
      "outputs": [
        {
          "output_type": "stream",
          "name": "stdout",
          "text": [
            "Looking in indexes: https://pypi.org/simple, https://us-python.pkg.dev/colab-wheels/public/simple/\n",
            "Collecting ftfy\n",
            "  Downloading ftfy-6.1.1-py3-none-any.whl (53 kB)\n",
            "\u001b[K     |████████████████████████████████| 53 kB 1.8 MB/s \n",
            "\u001b[?25hRequirement already satisfied: regex in /usr/local/lib/python3.8/dist-packages (2022.6.2)\n",
            "Requirement already satisfied: tqdm in /usr/local/lib/python3.8/dist-packages (4.64.1)\n",
            "Requirement already satisfied: wcwidth>=0.2.5 in /usr/local/lib/python3.8/dist-packages (from ftfy) (0.2.5)\n",
            "Installing collected packages: ftfy\n",
            "Successfully installed ftfy-6.1.1\n"
          ]
        }
      ]
    },
    {
      "cell_type": "code",
      "source": [
        "!pip install git+https://github.com/openai/CLIP.git"
      ],
      "metadata": {
        "colab": {
          "base_uri": "https://localhost:8080/"
        },
        "id": "gk_kyf24sLgu",
        "outputId": "c389cb9d-7549-4a42-d46b-1b98a5565aec"
      },
      "execution_count": 5,
      "outputs": [
        {
          "output_type": "stream",
          "name": "stdout",
          "text": [
            "Looking in indexes: https://pypi.org/simple, https://us-python.pkg.dev/colab-wheels/public/simple/\n",
            "Collecting git+https://github.com/openai/CLIP.git\n",
            "  Cloning https://github.com/openai/CLIP.git to /tmp/pip-req-build-yh62zbvq\n",
            "  Running command git clone -q https://github.com/openai/CLIP.git /tmp/pip-req-build-yh62zbvq\n",
            "Requirement already satisfied: ftfy in /usr/local/lib/python3.8/dist-packages (from clip==1.0) (6.1.1)\n",
            "Requirement already satisfied: regex in /usr/local/lib/python3.8/dist-packages (from clip==1.0) (2022.6.2)\n",
            "Requirement already satisfied: tqdm in /usr/local/lib/python3.8/dist-packages (from clip==1.0) (4.64.1)\n",
            "Requirement already satisfied: torch in /usr/local/lib/python3.8/dist-packages (from clip==1.0) (1.13.0+cu116)\n",
            "Requirement already satisfied: torchvision in /usr/local/lib/python3.8/dist-packages (from clip==1.0) (0.14.0+cu116)\n",
            "Requirement already satisfied: wcwidth>=0.2.5 in /usr/local/lib/python3.8/dist-packages (from ftfy->clip==1.0) (0.2.5)\n",
            "Requirement already satisfied: typing-extensions in /usr/local/lib/python3.8/dist-packages (from torch->clip==1.0) (4.4.0)\n",
            "Requirement already satisfied: numpy in /usr/local/lib/python3.8/dist-packages (from torchvision->clip==1.0) (1.21.6)\n",
            "Requirement already satisfied: requests in /usr/local/lib/python3.8/dist-packages (from torchvision->clip==1.0) (2.23.0)\n",
            "Requirement already satisfied: pillow!=8.3.*,>=5.3.0 in /usr/local/lib/python3.8/dist-packages (from torchvision->clip==1.0) (7.1.2)\n",
            "Requirement already satisfied: certifi>=2017.4.17 in /usr/local/lib/python3.8/dist-packages (from requests->torchvision->clip==1.0) (2022.12.7)\n",
            "Requirement already satisfied: chardet<4,>=3.0.2 in /usr/local/lib/python3.8/dist-packages (from requests->torchvision->clip==1.0) (3.0.4)\n",
            "Requirement already satisfied: idna<3,>=2.5 in /usr/local/lib/python3.8/dist-packages (from requests->torchvision->clip==1.0) (2.10)\n",
            "Requirement already satisfied: urllib3!=1.25.0,!=1.25.1,<1.26,>=1.21.1 in /usr/local/lib/python3.8/dist-packages (from requests->torchvision->clip==1.0) (1.24.3)\n",
            "Building wheels for collected packages: clip\n",
            "  Building wheel for clip (setup.py) ... \u001b[?25l\u001b[?25hdone\n",
            "  Created wheel for clip: filename=clip-1.0-py3-none-any.whl size=1369408 sha256=0a5d202342033611b02fff76f6119ad360a87220dc30756f9f92ee170d1d638d\n",
            "  Stored in directory: /tmp/pip-ephem-wheel-cache-529vyozc/wheels/ab/4f/3a/5e51521b55997aa6f0690e095c08824219753128ce8d9969a3\n",
            "Successfully built clip\n",
            "Installing collected packages: clip\n",
            "Successfully installed clip-1.0\n"
          ]
        }
      ]
    },
    {
      "cell_type": "code",
      "source": [
        "import os\n",
        "import clip\n",
        "import torch\n",
        "from PIL import Image\n",
        "from torchvision.datasets import CIFAR100\n",
        "\n",
        "# Load the model\n",
        "device = \"cuda\" if torch.cuda.is_available() else \"cpu\"\n",
        "model, preprocess = clip.load('ViT-B/32', device)\n",
        "\n",
        "# Download the dataset\n",
        "#cifar100 = CIFAR100(root=os.path.expanduser(\"~/.cache\"), download=True, train=False)\n",
        "\n",
        "# Prepare the inputs\n",
        "#image, class_id = cifar100[3637]\n",
        "#image_input = preprocess(image).unsqueeze(0).to(device)\n",
        "#ext_inputs = torch.cat([clip.tokenize(f\"a photo of a {c}\") for c in cifar100.classes]).to(device)\n"
      ],
      "metadata": {
        "id": "7_C_-NeAsW5F"
      },
      "execution_count": 15,
      "outputs": []
    },
    {
      "cell_type": "code",
      "source": [
        "clip.available_models()"
      ],
      "metadata": {
        "colab": {
          "base_uri": "https://localhost:8080/"
        },
        "id": "yV7zlcnKZlop",
        "outputId": "81989e5a-756d-4ef2-d482-ca806407a6c8"
      },
      "execution_count": 23,
      "outputs": [
        {
          "output_type": "execute_result",
          "data": {
            "text/plain": [
              "['RN50',\n",
              " 'RN101',\n",
              " 'RN50x4',\n",
              " 'RN50x16',\n",
              " 'RN50x64',\n",
              " 'ViT-B/32',\n",
              " 'ViT-B/16',\n",
              " 'ViT-L/14',\n",
              " 'ViT-L/14@336px']"
            ]
          },
          "metadata": {},
          "execution_count": 23
        }
      ]
    },
    {
      "cell_type": "code",
      "source": [
        "import sys\n",
        "import requests\n",
        "import numpy as np\n",
        "image_name = \"pexels-photo-1485637.jpeg\"\n",
        "image_url = f\"https://evergreenllc2020.github.io/blog3/images/missingdog.jpg\"\n",
        "\n",
        "raw_image = Image.open(requests.get(image_url, stream=True).raw)\n",
        "#print(\"Raw Image to be processed\")\n",
        "#display(raw_image)\n",
        "\n",
        "#Resize the image\n",
        "image_input = raw_image.resize((224,224))\n",
        "print(\"Resized image to 224, 224\")\n",
        "display(image_input)\n",
        "\n",
        "\n",
        "#raw_image = Image.open(\"/content/drive/My Drive/Colab Notebooks/CLIP/images/christmas.jpg\")\n",
        "\n",
        "#image_input = preprocess(Image.open(\"/content/drive/My Drive/Colab Notebooks/CLIP/images/christmas.jpg\")).unsqueeze(0).to(device)\n",
        "\n",
        "image_input = preprocess(image_input)\n",
        "image_input = image_input.unsqueeze(0).to(device)\n",
        "prompts = [\"reward\",\"number\",\"found\",\"tear-off\",\"phone\",\"cat\",\"missing\",\"animal\",\"tear-away\",\"dog\",\"pet\"]\n",
        "\n",
        "for label in prompts:\n",
        "  text_raw = [\"aaa\",\"bbb\",\"ccc\"]\n",
        "  text_raw[2] = label\n",
        "  text_inputs = clip.tokenize(text_raw).to(device)\n",
        "  \n",
        "  # Calculate features\n",
        "  with torch.no_grad():\n",
        "      image_features = model.encode_image(image_input)\n",
        "      text_features = model.encode_text(text_inputs)\n",
        "      logits_per_image, logits_per_text = model(image_input, text_inputs)\n",
        "      probs = logits_per_image.softmax(dim=-1).cpu().numpy()\n",
        "\n",
        "  #display(raw_image)\n",
        "  #for idx in range(len(text_raw)):\n",
        "  #  print(f\"{text_raw[idx] }:{100*probs[0,idx]:.2f}%\")\n",
        "  print(f\"{text_raw[2] }:{100*probs[0,2]:.2f}%\")"
      ],
      "metadata": {
        "colab": {
          "base_uri": "https://localhost:8080/",
          "height": 449
        },
        "id": "jtFG2lQMVehG",
        "outputId": "d6b25feb-b4e3-4f7f-b669-69da1f6b6072"
      },
      "execution_count": 88,
      "outputs": [
        {
          "output_type": "stream",
          "name": "stdout",
          "text": [
            "Resized image to 224, 224\n"
          ]
        },
        {
          "output_type": "display_data",
          "data": {
            "text/plain": [
              "<PIL.Image.Image image mode=RGB size=224x224 at 0x7F9607763FD0>"
            ],
            "image/png": "[encoded data removed]"
          },
          "metadata": {}
        },
        {
          "output_type": "stream",
          "name": "stdout",
          "text": [
            "reward:79.41%\n",
            "number:20.60%\n",
            "found:96.80%\n",
            "tear-off:1.19%\n",
            "phone:7.45%\n",
            "cat:94.22%\n",
            "missing:99.91%\n",
            "animal:7.32%\n",
            "tear-away:3.02%\n",
            "dog:3.15%\n",
            "pet:76.33%\n"
          ]
        }
      ]
    }
  ]
}